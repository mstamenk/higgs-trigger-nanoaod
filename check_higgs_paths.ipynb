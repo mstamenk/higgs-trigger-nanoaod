{
 "cells": [
  {
   "cell_type": "code",
   "execution_count": 1,
   "metadata": {},
   "outputs": [],
   "source": [
    "import pandas as pd"
   ]
  },
  {
   "cell_type": "code",
   "execution_count": 14,
   "metadata": {},
   "outputs": [],
   "source": [
    "# display options\n",
    "pd.set_option('display.max_rows', None)  # or 1000"
   ]
  },
  {
   "cell_type": "code",
   "execution_count": 79,
   "metadata": {
    "scrolled": true
   },
   "outputs": [
    {
     "name": "stdout",
     "output_type": "stream",
     "text": [
      "--2022-11-14 13:49:16--  https://docs.google.com/spreadsheets/d/1ThboqmcVpMGdK8uGi2PZu4zllzMwU88nCD9t_ZhO_d0/export?gid=2005906281&format=csv\n",
      "Resolving docs.google.com (docs.google.com)... 142.250.179.78, 2a00:1450:4007:813::200e\n",
      "Connecting to docs.google.com (docs.google.com)|142.250.179.78|:443... connected.\n",
      "HTTP request sent, awaiting response... 307 Temporary Redirect\n",
      "Location: https://doc-08-3s-sheets.googleusercontent.com/export/2950bjfoefl9ijupse0qdqfgno/dlomro24029rprorrkbj1i3qq0/1668430155000/117449836062647758571/*/1ThboqmcVpMGdK8uGi2PZu4zllzMwU88nCD9t_ZhO_d0?gid=2005906281&format=csv [following]\n",
      "Warning: wildcards not supported in HTTP.\n",
      "--2022-11-14 13:49:16--  https://doc-08-3s-sheets.googleusercontent.com/export/2950bjfoefl9ijupse0qdqfgno/dlomro24029rprorrkbj1i3qq0/1668430155000/117449836062647758571/*/1ThboqmcVpMGdK8uGi2PZu4zllzMwU88nCD9t_ZhO_d0?gid=2005906281&format=csv\n",
      "Resolving doc-08-3s-sheets.googleusercontent.com (doc-08-3s-sheets.googleusercontent.com)... 142.250.179.97, 2a00:1450:4007:818::2001\n",
      "Connecting to doc-08-3s-sheets.googleusercontent.com (doc-08-3s-sheets.googleusercontent.com)|142.250.179.97|:443... connected.\n",
      "HTTP request sent, awaiting response... 200 OK\n",
      "Length: unspecified [text/csv]\n",
      "Saving to: ‘tmp_metadata.csv’\n",
      "\n",
      "    [ <=>                                   ] 1,035       --.-K/s   in 0s      \n",
      "\n",
      "2022-11-14 13:49:17 (10.1 MB/s) - ‘tmp_metadata.csv’ saved [1035]\n",
      "\n",
      "--2022-11-14 13:49:17--  https://docs.google.com/spreadsheets/d/1ThboqmcVpMGdK8uGi2PZu4zllzMwU88nCD9t_ZhO_d0/export?gid=0&format=csv\n",
      "Resolving docs.google.com (docs.google.com)... 142.250.179.78, 2a00:1450:4007:813::200e\n",
      "Connecting to docs.google.com (docs.google.com)|142.250.179.78|:443... connected.\n",
      "HTTP request sent, awaiting response... 307 Temporary Redirect\n",
      "Location: https://doc-08-3s-sheets.googleusercontent.com/export/2950bjfoefl9ijupse0qdqfgno/dlomro24029rprorrkbj1i3qq0/1668430155000/117449836062647758571/*/1ThboqmcVpMGdK8uGi2PZu4zllzMwU88nCD9t_ZhO_d0?gid=0&format=csv [following]\n",
      "Warning: wildcards not supported in HTTP.\n",
      "--2022-11-14 13:49:17--  https://doc-08-3s-sheets.googleusercontent.com/export/2950bjfoefl9ijupse0qdqfgno/dlomro24029rprorrkbj1i3qq0/1668430155000/117449836062647758571/*/1ThboqmcVpMGdK8uGi2PZu4zllzMwU88nCD9t_ZhO_d0?gid=0&format=csv\n",
      "Resolving doc-08-3s-sheets.googleusercontent.com (doc-08-3s-sheets.googleusercontent.com)... 142.250.179.97, 2a00:1450:4007:818::2001\n",
      "Connecting to doc-08-3s-sheets.googleusercontent.com (doc-08-3s-sheets.googleusercontent.com)|142.250.179.97|:443... connected.\n",
      "HTTP request sent, awaiting response... 200 OK\n",
      "Length: unspecified [text/csv]\n",
      "Saving to: ‘tmp_hlt.csv’\n",
      "\n",
      "    [ <=>                                   ] 235,009     --.-K/s   in 0.01s   \n",
      "\n",
      "2022-11-14 13:49:17 (22.8 MB/s) - ‘tmp_hlt.csv’ saved [235009]\n",
      "\n"
     ]
    }
   ],
   "source": [
    "#wget updated menu from google sheet\n",
    "# url: https://docs.google.com/spreadsheets/d/1ThboqmcVpMGdK8uGi2PZu4zllzMwU88nCD9t_ZhO_d0/edit#gid=0\n",
    "# to export, change 'edit#' with 'export?' in url\n",
    "\n",
    "\n",
    "# fetch metadata for bookkeeping\n",
    "!wget --no-check-certificate -O tmp_metadata.csv \\\n",
    "    'https://docs.google.com/spreadsheets/d/1ThboqmcVpMGdK8uGi2PZu4zllzMwU88nCD9t_ZhO_d0/export?gid=2005906281&format=csv'\n",
    "df_meta = pd.read_csv('tmp_metadata.csv',names=['a','b'])\n",
    "menu_version = df_meta['b'][1]\n",
    "\n",
    "# fetch HLT menu\n",
    "!wget --no-check-certificate -O tmp_hlt.csv \\\n",
    "    'https://docs.google.com/spreadsheets/d/1ThboqmcVpMGdK8uGi2PZu4zllzMwU88nCD9t_ZhO_d0/export?gid=0&format=csv'\n",
    "df = pd.read_csv('tmp_hlt.csv')\n",
    "df = df.loc[:, ~df.columns.str.contains('^Unnamed')]"
   ]
  },
  {
   "cell_type": "code",
   "execution_count": 87,
   "metadata": {
    "scrolled": true
   },
   "outputs": [
    {
     "name": "stdout",
     "output_type": "stream",
     "text": [
      "/dev/CMSSW_12_4_0/GRun/V151 has 158 HIG triggers: 57 owned by HIG alone; 41 shared with POGs and 60 shared with PAGs\n"
     ]
    },
    {
     "name": "stderr",
     "output_type": "stream",
     "text": [
      "<ipython-input-87-75f110c6aa46>:16: UserWarning: Boolean Series key will be reindexed to match DataFrame index.\n",
      "  df_3_higgsAndPAG = df_higgs[~(df_higgs['Owners'].astype(str).str.contains(POGstring))&~(df['Owners'].astype(str)=='HIG')]\n"
     ]
    }
   ],
   "source": [
    "POGstring = 'Alca|BTV|TSG|EGM|TAU|JME|MUO'\n",
    "\n",
    "# -- setup different DFs with path info, depending on priorities\n",
    "\n",
    "# 0 - all HIG HLT \n",
    "df_higgs = df[df['Owners'].astype(str).str.contains('HIG')]\n",
    "#df_higgs = df[~(df['HIG'].astype(str).str.contains('NaN'))]\n",
    "\n",
    "# 1 - HLT from ONLY HIG\n",
    "df_1_higgsOnly = df[df['Owners'].astype(str)=='HIG']\n",
    "\n",
    "# 2 - HLT also monitored by POGs\n",
    "df_2_higgsAndPOG = df_higgs[df_higgs['Owners'].astype(str).str.contains(POGstring)]\n",
    "\n",
    "# 3 - HLT also monitored by PAGs\n",
    "df_3_higgsAndPAG = df_higgs[~(df_higgs['Owners'].astype(str).str.contains(POGstring))&~(df['Owners'].astype(str)=='HIG')]\n",
    "\n",
    "print(\"{} has {} HIG triggers: {} owned by HIG alone; {} shared with POGs and {} shared with PAGs\".format(menu_version, df_higgs.shape[0],\n",
    "                                                                                                   df_1_higgsOnly.shape[0],\n",
    "                                                                                                   df_2_higgsAndPOG.shape[0],\n",
    "                                                                                                   df_3_higgsAndPAG.shape[0]))"
   ]
  },
  {
   "cell_type": "code",
   "execution_count": 107,
   "metadata": {},
   "outputs": [],
   "source": [
    "prio_paths = [\n",
    "    'HLT_DiJet110_35_Mjj650_PFMET110_v',\n",
    "    'HLT_DiJet110_35_Mjj650_PFMET120_v',\n",
    "    'HLT_DiJet110_35_Mjj650_PFMET130_v',\n",
    "    'HLT_TripleJet110_35_35_Mjj650_PFMET110_v',\n",
    "    'HLT_TripleJet110_35_35_Mjj650_PFMET120_v',\n",
    "    'HLT_TripleJet110_35_35_Mjj650_PFMET130_v',\n",
    "    'HLT_VBF_DoubleLooseChargedIsoPFTauHPS20_Trk1_eta2p1_v',  # not in menu\n",
    "    'HLT_VBF_DoubleMediumChargedIsoPFTauHPS20_Trk1_eta2p1_v', # not in menu\n",
    "    #'HLT_VBF_DoubleMediumDeepTauPFTauHPS20_eta2p1_v',        # not in jira\n",
    "    'HLT_VBF_DoubleTightChargedIsoPFTauHPS20_Trk1_eta2p1_v',\n",
    "    'HLT_Diphoton30_22_R9Id_OR_IsoCaloId_AND_HE_R9Id_Mass90_v',\n",
    "    'HLT_Diphoton30_22_R9Id_OR_IsoCaloId_AND_HE_R9Id_Mass95_v',\n",
    "    'HLT_Diphoton30_18_R9IdL_AND_HE_AND_IsoCaloId_NoPixelVeto_v', # not in menu\n",
    "    #'HLT_Diphoton30_18_R9IdL_AND_HE_AND_IsoCaloId_Mass55_v',     # not in jira\n",
    "    'HLT_DoublePFJets40_PFBTagDeepCSV_p71_v',\n",
    "    'HLT_DoublePFJets100_PFBTagDeepCSV_p71_v',\n",
    "    'HLT_DoublePFJets200_PFBTagDeepCSV_p71_v',\n",
    "    'HLT_DoublePFJets350_PFBTagDeepCSV_p71_v',\n",
    "    'HLT_DoublePFJets40_PFBTagDeepJet_p71_v',\n",
    "    'HLT_DoublePFJets100_PFBTagDeepJet_p71_v',\n",
    "    'HLT_DoublePFJets200_PFBTagDeepJet_p71_v',\n",
    "    'HLT_DoublePFJets350_PFBTagDeepJet_p71_v',\n",
    "    'HLT_Mu12_DoublePFJets40_PFBTagDeepCSV_p71_v',\n",
    "    'HLT_Mu12_DoublePFJets100_PFBTagDeepCSV_p71_v',\n",
    "    'HLT_Mu12_DoublePFJets200_PFBTagDeepCSV_p71_v',\n",
    "    'HLT_Mu12_DoublePFJets350_PFBTagDeepCSV_p71_v',\n",
    "    'HLT_Mu12_DoublePFJets40_PFBTagDeepJet_p71_v',\n",
    "    'HLT_Mu12_DoublePFJets100_PFBTagDeepJet_p71_v',\n",
    "    'HLT_Mu12_DoublePFJets200_PFBTagDeepJet_p71_v',\n",
    "    'HLT_Mu12_DoublePFJets350_PFBTagDeepJet_p71_v',\n",
    "    'HLT_QuadPFJet103_88_75_15_PFBTagDeepJet_1p3_VBF2_v',\n",
    "    'HLT_QuadPFJet103_88_75_15_PFBTagDeepCSV_1p3_VBF2_v',\n",
    "    'HLT_QuadPFJet103_88_75_15_DoublePFBTagDeepJet_1p3_7p7_VBF1_v',\n",
    "    'HLT_QuadPFJet103_88_75_15_DoublePFBTagDeepCSV_1p3_7p7_VBF1_v',\n",
    "    'HLT_QuadPFJet105_88_76_15_PFBTagDeepJet_1p3_VBF2_v',\n",
    "    'HLT_QuadPFJet105_88_76_15_PFBTagDeepCSV_1p3_VBF2_v',\n",
    "    'HLT_QuadPFJet105_88_76_15_DoublePFBTagDeepJet_1p3_7p7_VBF1_v',\n",
    "    'HLT_QuadPFJet105_88_76_15_DoublePFBTagDeepCSV_1p3_7p7_VBF1_v',\n",
    "    'HLT_QuadPFJet111_90_80_15_PFBTagDeepJet_1p3_VBF2_v',\n",
    "    'HLT_QuadPFJet111_90_80_15_PFBTagDeepCSV_1p3_VBF2_v',\n",
    "    'HLT_QuadPFJet111_90_80_15_DoublePFBTagDeepJet_1p3_7p7_VBF1_v',\n",
    "    'HLT_QuadPFJet111_90_80_15_DoublePFBTagDeepCSV_1p3_7p7_VBF1_v',\n",
    "    'HLT_Photon35_TwoProngs35_v',\n",
    "    'HLT_Ele23_Ele12_CaloIdL_TrackIdL_IsoVL_DZ_v',\n",
    "    'HLT_Mu23_TrkIsoVVL_Ele12_CaloIdL_TrackIdL_IsoVL_DZ_v',\n",
    "    'HLT_Mu12_TrkIsoVVL_Ele23_CaloIdL_TrackIdL_IsoVL_DZ_v',\n",
    "    'HLT_TripleMu_10_5_5_DZ_v',\n",
    "    'HLT_TripleMu_12_10_5_v',\n",
    "    'HLT_Ele16_Ele12_Ele8_CaloIdL_TrackIdL_v',\n",
    "    'HLT_DiMu9_Ele9_CaloIdL_TrackIdL_v',\n",
    "    'HLT_Mu8_DiEle12_CaloIdL_TrackIdL_v',\n",
    "    'HLT_QuadPFJet70_50_40_30_PFBTagParticleNet_2BTagSum0p65_v',\n",
    "    'HLT_QuadPFJet70_50_40_35_PFBTagParticleNet_2BTagSum0p65_v',\n",
    "    'HLT_QuadPFJet70_50_45_35_PFBTagParticleNet_2BTagSum0p65_v',\n",
    "    'HLT_AK8PFJet230_SoftDropMass40_PFAK8ParticleNetTauTau0p30_v',\n",
    "    'HLT_AK8PFJet230_SoftDropMass40_PFAK8ParticleNetBB0p35_v',\n",
    "    'HLT_AK8PFJet250_SoftDropMass40_PFAK8ParticleNetTauTau0p30_v',\n",
    "    'HLT_AK8PFJet250_SoftDropMass40_PFAK8ParticleNetBB0p35_v',\n",
    "    'HLT_AK8PFJet275_SoftDropMass40_PFAK8ParticleNetTauTau0p30_v',\n",
    "    'HLT_AK8PFJet275_SoftDropMass40_PFAK8ParticleNetBB0p35_v',\n",
    "]"
   ]
  },
  {
   "cell_type": "code",
   "execution_count": 118,
   "metadata": {},
   "outputs": [
    {
     "name": "stdout",
     "output_type": "stream",
     "text": [
      "6 HLT_VBF_DoubleLooseChargedIsoPFTauHPS20_Trk1_eta2p1_v\n",
      "7 HLT_VBF_DoubleMediumChargedIsoPFTauHPS20_Trk1_eta2p1_v\n",
      "11 HLT_Diphoton30_18_R9IdL_AND_HE_AND_IsoCaloId_NoPixelVeto_v\n",
      "\n",
      "0 HLT_Diphoton30_18_R9IdL_AND_HE_AND_IsoCaloId_Mass55_v\n",
      "1 HLT_Photon165_R9Id90_HE10_IsoM_v\n",
      "2 HLT_CaloMET350_NotCleaned_v\n",
      "7 HLT_DoublePFJets116MaxDeta1p6_DoublePFBTagDeepCSV_p71_v\n",
      "8 HLT_DoublePFJets128MaxDeta1p6_DoublePFBTagDeepCSV_p71_v\n",
      "9 HLT_DoublePFJets128MaxDeta1p6_DoublePFBTagDeepJet_p71_v\n",
      "24 HLT_Mu12_DoublePFJets40MaxDeta1p6_DoublePFBTagDeepCSV_p71_v\n",
      "25 HLT_Mu12_DoublePFJets40MaxDeta1p6_DoublePFBTagDeepJet_p71_v\n",
      "26 HLT_Mu12_DoublePFJets54MaxDeta1p6_DoublePFBTagDeepCSV_p71_v\n",
      "27 HLT_Mu12_DoublePFJets54MaxDeta1p6_DoublePFBTagDeepJet_p71_v\n",
      "28 HLT_Mu12eta2p3_PFJet40_v\n",
      "29 HLT_Mu12eta2p3_v\n",
      "32 HLT_QuadPFJet103_88_75_15_v\n",
      "35 HLT_QuadPFJet105_88_76_15_v\n",
      "38 HLT_QuadPFJet111_90_80_15_v\n",
      "39 HLT_SingleJet30_Mu12_SinglePFJet40_v\n",
      "42 HLT_IsoMu20_eta2p1_TightChargedIsoPFTauHPS27_eta2p1_TightID_CrossL1_v\n",
      "43 HLT_IsoMu24_eta2p1_MediumDeepTauPFTauHPS20_eta2p1_SingleL1_v\n",
      "44 HLT_IsoMu24_eta2p1_MediumDeepTauPFTauHPS30_L2NN_eta2p1_CrossL1_v\n",
      "45 HLT_IsoMu24_eta2p1_MediumDeepTauPFTauHPS30_L2NN_eta2p1_PFJet60_CrossL1_v\n",
      "46 HLT_IsoMu24_eta2p1_MediumDeepTauPFTauHPS30_L2NN_eta2p1_PFJet75_CrossL1_v\n",
      "47 HLT_IsoMu24_TwoProngs35_v\n",
      "48 HLT_Mu18_Mu9_SameSign_v\n",
      "49 HLT_TrkMu12_DoubleTrkMu5NoFiltersNoVtx_v\n",
      "50 HLT_Mu8_TrkIsoVVL_Ele23_CaloIdL_TrackIdL_IsoVL_DZ_PFDiJet30_PFBTagParticleNet_2BTagSum0p65_v\n",
      "51 HLT_Mu8_TrkIsoVVL_Ele23_CaloIdL_TrackIdL_IsoVL_DZ_QuadPFJet70_50_40_30_PFBTagParticleNet_2BTagSum0p65_v\n",
      "52 HLT_Mu8_TrkIsoVVL_Ele23_CaloIdL_TrackIdL_IsoVL_DZ_QuadPFJet70_50_40_30_v\n",
      "53 HLT_DoubleMediumDeepTauPFTauHPS30_L2NN_eta2p1_PFJet60_v\n",
      "54 HLT_DoubleMediumDeepTauPFTauHPS30_L2NN_eta2p1_PFJet75_v\n"
     ]
    }
   ],
   "source": [
    "for idx, path in enumerate(prio_paths):\n",
    "    if not path in df_higgs.path.to_list():\n",
    "        print(idx, path)\n",
    "        \n",
    "print('')\n",
    "\n",
    "for idx, path in enumerate(df_1_higgsOnly.path.tolist()):\n",
    "    if not path in prio_paths:\n",
    "        print(idx,path)"
   ]
  },
  {
   "cell_type": "code",
   "execution_count": 124,
   "metadata": {
    "scrolled": false
   },
   "outputs": [
    {
     "data": {
      "text/plain": [
       "['HIG: https://its.cern.ch/jira/browse/CMSHLT-2386',\n",
       " 'HIG: https://its.cern.ch/jira/browse/CMSHLT-2386',\n",
       " 'HIG: https://its.cern.ch/jira/browse/CMSHLT-2386',\n",
       " 'HIG: https://its.cern.ch/jira/browse/CMSHLT-2386',\n",
       " 'HIG: https://its.cern.ch/jira/browse/CMSHLT-2386',\n",
       " 'HIG: https://its.cern.ch/jira/browse/CMSHLT-2386',\n",
       " 'HIG: https://its.cern.ch/jira/browse/CMSHLT-2386',\n",
       " 'HIG: https://its.cern.ch/jira/browse/CMSHLT-2386',\n",
       " 'HIG: https://its.cern.ch/jira/browse/CMSHLT-2386',\n",
       " 'HIG: https://its.cern.ch/jira/browse/CMSHLT-2386',\n",
       " 'HIG: https://its.cern.ch/jira/browse/CMSHLT-2386',\n",
       " 'HIG: https://its.cern.ch/jira/browse/CMSHLT-2386',\n",
       " 'HIG: https://its.cern.ch/jira/browse/CMSHLT-2386',\n",
       " 'HIG: https://its.cern.ch/jira/browse/CMSHLT-2386',\n",
       " 'HIG: https://its.cern.ch/jira/browse/CMSHLT-2386',\n",
       " 'HIG: https://its.cern.ch/jira/browse/CMSHLT-2386',\n",
       " 'HIG: https://its.cern.ch/jira/browse/CMSHLT-2386',\n",
       " 'HIG: https://its.cern.ch/jira/browse/CMSHLT-2386',\n",
       " 'HIG: https://its.cern.ch/jira/browse/CMSHLT-2386',\n",
       " 'HIG: https://its.cern.ch/jira/browse/CMSHLT-2386',\n",
       " 'HIG: https://its.cern.ch/jira/browse/CMSHLT-2386',\n",
       " 'HIG: https://its.cern.ch/jira/browse/CMSHLT-2386',\n",
       " 'HIG: https://its.cern.ch/jira/browse/CMSHLT-2386',\n",
       " 'HIG: https://its.cern.ch/jira/browse/CMSHLT-2386',\n",
       " 'HIG: https://its.cern.ch/jira/browse/CMSHLT-2386',\n",
       " 'HIG: https://its.cern.ch/jira/browse/CMSHLT-2386',\n",
       " 'HIG: https://its.cern.ch/jira/browse/CMSHLT-2386',\n",
       " 'HIG: https://its.cern.ch/jira/browse/CMSHLT-2386',\n",
       " 'HIG: https://its.cern.ch/jira/browse/CMSHLT-2386',\n",
       " 'HIG: https://its.cern.ch/jira/browse/CMSHLT-2386',\n",
       " 'HIG: https://its.cern.ch/jira/browse/CMSHLT-2386',\n",
       " 'HIG: https://its.cern.ch/jira/browse/CMSHLT-2386',\n",
       " 'HIG: https://its.cern.ch/jira/browse/CMSHLT-2386',\n",
       " 'HIG: https://its.cern.ch/jira/browse/CMSHLT-2386',\n",
       " 'HIG: https://its.cern.ch/jira/browse/CMSHLT-2386',\n",
       " 'HIG: https://its.cern.ch/jira/browse/CMSHLT-2386',\n",
       " 'HIG: https://its.cern.ch/jira/browse/CMSHLT-2386',\n",
       " 'HIG: https://its.cern.ch/jira/browse/CMSHLT-2386',\n",
       " 'HIG: https://its.cern.ch/jira/browse/CMSHLT-2386',\n",
       " 'HIG: https://its.cern.ch/jira/browse/CMSHLT-2386',\n",
       " 'HIG: https://its.cern.ch/jira/browse/CMSHLT-2386',\n",
       " 'HIG: https://its.cern.ch/jira/browse/CMSHLT-2386',\n",
       " 'HIG: https://its.cern.ch/jira/browse/CMSHLT-2386',\n",
       " 'HIG: https://its.cern.ch/jira/browse/CMSHLT-2386',\n",
       " 'HIG: https://its.cern.ch/jira/browse/CMSHLT-2386',\n",
       " 'HIG: https://its.cern.ch/jira/browse/CMSHLT-2386',\n",
       " 'HIG: https://its.cern.ch/jira/browse/CMSHLT-2386',\n",
       " 'HIG: https://its.cern.ch/jira/browse/CMSHLT-2386',\n",
       " 'HIG: https://its.cern.ch/jira/browse/CMSHLT-2386',\n",
       " 'HIG: https://its.cern.ch/jira/browse/CMSHLT-2386',\n",
       " 'HIG: https://its.cern.ch/jira/browse/CMSHLT-2386',\n",
       " 'HIG: https://its.cern.ch/jira/browse/CMSHLT-2386',\n",
       " 'HIG: https://its.cern.ch/jira/browse/CMSHLT-2386',\n",
       " 'HIG: https://its.cern.ch/jira/browse/CMSHLT-2386',\n",
       " 'HIG: https://its.cern.ch/jira/browse/CMSHLT-2386',\n",
       " 'HIG: https://its.cern.ch/jira/browse/CMSHLT-2386',\n",
       " 'HIG: https://its.cern.ch/jira/browse/CMSHLT-2386',\n",
       " 'HIG: https://its.cern.ch/jira/browse/CMSHLT-2386',\n",
       " 'HIG: https://its.cern.ch/jira/browse/CMSHLT-2386',\n",
       " 'HIG: https://its.cern.ch/jira/browse/CMSHLT-2386',\n",
       " 'HIG: https://its.cern.ch/jira/browse/CMSHLT-2386',\n",
       " 'HIG: https://its.cern.ch/jira/browse/CMSHLT-2386',\n",
       " 'HIG: https://its.cern.ch/jira/browse/CMSHLT-2386',\n",
       " 'HIG: https://its.cern.ch/jira/browse/CMSHLT-2386',\n",
       " 'HIG: https://its.cern.ch/jira/browse/CMSHLT-2386']"
      ]
     },
     "execution_count": 124,
     "metadata": {},
     "output_type": "execute_result"
    }
   ],
   "source": [
    "df_higgs[df_higgs['Validation'].astype(str).str.contains('HIG')].Validation.to_list()"
   ]
  },
  {
   "cell_type": "code",
   "execution_count": null,
   "metadata": {},
   "outputs": [],
   "source": []
  },
  {
   "cell_type": "code",
   "execution_count": null,
   "metadata": {},
   "outputs": [],
   "source": []
  }
 ],
 "metadata": {
  "kernelspec": {
   "display_name": "MLenv",
   "language": "python",
   "name": "mlenv"
  },
  "language_info": {
   "codemirror_mode": {
    "name": "ipython",
    "version": 3
   },
   "file_extension": ".py",
   "mimetype": "text/x-python",
   "name": "python",
   "nbconvert_exporter": "python",
   "pygments_lexer": "ipython3",
   "version": "3.8.5"
  }
 },
 "nbformat": 4,
 "nbformat_minor": 2
}
